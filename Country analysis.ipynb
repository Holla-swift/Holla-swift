{
 "cells": [
  {
   "cell_type": "markdown",
   "id": "384cffbb",
   "metadata": {},
   "source": [
    "## Country analysis project"
   ]
  },
  {
   "cell_type": "code",
   "execution_count": null,
   "id": "db3c0022",
   "metadata": {},
   "outputs": [],
   "source": [
    "import pandas as pd\n",
    "import numpy as np\n",
    "from matplotlib import pyplot as plt"
   ]
  },
  {
   "cell_type": "code",
   "execution_count": null,
   "id": "5688b2e9",
   "metadata": {},
   "outputs": [],
   "source": [
    "data = pd.read_csv('countries.csv')"
   ]
  },
  {
   "cell_type": "code",
   "execution_count": null,
   "id": "df009b22",
   "metadata": {},
   "outputs": [],
   "source": [
    "print(data.head(5))"
   ]
  },
  {
   "cell_type": "code",
   "execution_count": null,
   "id": "34baf37d",
   "metadata": {},
   "outputs": [],
   "source": [
    "print(data.columns == 'Afghanistan')"
   ]
  },
  {
   "cell_type": "code",
   "execution_count": null,
   "id": "a87bef69",
   "metadata": {},
   "outputs": [],
   "source": [
    "from matplotlib import pyplot as plt\n",
    "plt.plot(year, population)\n",
    "plt.show()"
   ]
  },
  {
   "cell_type": "code",
   "execution_count": null,
   "id": "7b3e0236",
   "metadata": {},
   "outputs": [],
   "source": [
    "data.describe()"
   ]
  },
  {
   "cell_type": "code",
   "execution_count": null,
   "id": "3a8c7fca",
   "metadata": {},
   "outputs": [],
   "source": [
    "df = data.columns()"
   ]
  },
  {
   "cell_type": "code",
   "execution_count": null,
   "id": "4289e1b5",
   "metadata": {},
   "outputs": [],
   "source": [
    "df"
   ]
  },
  {
   "cell_type": "code",
   "execution_count": null,
   "id": "8e935ea6",
   "metadata": {},
   "outputs": [],
   "source": [
    "data"
   ]
  },
  {
   "cell_type": "code",
   "execution_count": null,
   "id": "16aa28cf",
   "metadata": {},
   "outputs": [],
   "source": [
    "x = [1,2,3,4,5]\n",
    "y = [100,80,75,45,15]\n",
    "\n",
    "plt.plot(x,y)\n",
    "plt.title('This is the First chart', fontsize = 20)\n",
    "plt.xlabel('Decimals')\n",
    "plt.ylabel('Number')\n",
    "plt.grid(0)\n",
    "plt.show()"
   ]
  },
  {
   "cell_type": "code",
   "execution_count": null,
   "id": "06178cdb",
   "metadata": {},
   "outputs": [],
   "source": [
    "data.population.iloc[100]"
   ]
  },
  {
   "cell_type": "code",
   "execution_count": null,
   "id": "f8c89e0d",
   "metadata": {},
   "outputs": [],
   "source": [
    "plt.plot(data.year, data.population/10**6)"
   ]
  },
  {
   "cell_type": "code",
   "execution_count": 2,
   "id": "bb380c41",
   "metadata": {},
   "outputs": [],
   "source": [
    "import pandas as pd\n",
    "import numpy as np\n",
    "from matplotlib import pyplot as plt\n",
    "\n",
    "data = pd.read_csv('countries.csv')\n",
    "\n",
    "Nigeria = data[data.country == 'Nigeria']"
   ]
  },
  {
   "cell_type": "code",
   "execution_count": 100,
   "id": "c4f178e1",
   "metadata": {},
   "outputs": [
    {
     "name": "stdout",
     "output_type": "stream",
     "text": [
      "['Afghanistan', 'Albania', 'Algeria', 'Angola', 'Argentina', 'Australia', 'Austria', 'Bahrain', 'Bangladesh', 'Belgium', 'Benin', 'Bolivia', 'Bosnia and Herzegovina', 'Botswana', 'Brazil', 'Bulgaria', 'Burkina Faso', 'Burundi', 'Cambodia', 'Cameroon', 'Canada', 'Central African Republic', 'Chad', 'Chile', 'China', 'Colombia', 'Comoros', 'Congo, Dem. Rep.', 'Congo, Rep.', 'Costa Rica', \"Cote d'Ivoire\", 'Croatia', 'Cuba', 'Czech Republic', 'Denmark', 'Djibouti', 'Dominican Republic', 'Ecuador', 'Egypt', 'El Salvador', 'Equatorial Guinea', 'Eritrea', 'Ethiopia', 'Finland', 'France', 'Gabon', 'Gambia', 'Germany', 'Ghana', 'Greece', 'Guatemala', 'Guinea', 'Guinea-Bissau', 'Haiti', 'Honduras', 'Hong Kong, China', 'Hungary', 'Iceland', 'India', 'Indonesia', 'Iran', 'Iraq', 'Ireland', 'Israel', 'Italy', 'Jamaica', 'Japan', 'Jordan', 'Kenya', 'Korea, Dem. Rep.', 'Korea, Rep.', 'Kuwait', 'Lebanon', 'Lesotho', 'Liberia', 'Libya', 'Madagascar', 'Malawi', 'Malaysia', 'Mali', 'Mauritania', 'Mauritius', 'Mexico', 'Mongolia', 'Montenegro', 'Morocco', 'Mozambique', 'Myanmar', 'Namibia', 'Nepal', 'Netherlands', 'New Zealand', 'Nicaragua', 'Niger', 'Nigeria', 'Norway', 'Oman', 'Pakistan', 'Panama', 'Paraguay', 'Peru', 'Philippines', 'Poland', 'Portugal', 'Puerto Rico', 'Reunion', 'Romania', 'Rwanda', 'Sao Tome and Principe', 'Saudi Arabia', 'Senegal', 'Serbia', 'Sierra Leone', 'Singapore', 'Slovak Republic', 'Slovenia', 'Somalia', 'South Africa', 'Spain', 'Sri Lanka', 'Sudan', 'Swaziland', 'Sweden', 'Switzerland', 'Syria', 'Taiwan', 'Tanzania', 'Thailand', 'Togo', 'Trinidad and Tobago', 'Tunisia', 'Turkey', 'Uganda', 'United Kingdom', 'United States', 'Uruguay', 'Venezuela', 'Vietnam', 'West Bank and Gaza', 'Yemen, Rep.', 'Zambia', 'Zimbabwe']\n"
     ]
    }
   ],
   "source": [
    "countries_name = list(set(data.country))\n",
    "countries_name.sort(reverse=False)\n",
    "print(countries_name)"
   ]
  },
  {
   "cell_type": "code",
   "execution_count": 112,
   "id": "b754492f",
   "metadata": {},
   "outputs": [
    {
     "name": "stdout",
     "output_type": "stream",
     "text": [
      "142\n"
     ]
    }
   ],
   "source": [
    "print(len(countries_name))"
   ]
  },
  {
   "cell_type": "code",
   "execution_count": 3,
   "id": "3a35d2dc",
   "metadata": {},
   "outputs": [
    {
     "name": "stdout",
     "output_type": "stream",
     "text": [
      "      country  year  population\n",
      "1128  Nigeria  1952    33119096\n",
      "1129  Nigeria  1957    37173340\n",
      "1130  Nigeria  1962    41871351\n",
      "1131  Nigeria  1967    47287752\n",
      "1132  Nigeria  1972    53740085\n",
      "1133  Nigeria  1977    62209173\n",
      "1134  Nigeria  1982    73039376\n",
      "1135  Nigeria  1987    81551520\n",
      "1136  Nigeria  1992    93364244\n",
      "1137  Nigeria  1997   106207839\n",
      "1138  Nigeria  2002   119901274\n",
      "1139  Nigeria  2007   135031164\n"
     ]
    }
   ],
   "source": [
    "print(Nigeria)"
   ]
  },
  {
   "cell_type": "code",
   "execution_count": 4,
   "id": "7ff478bc",
   "metadata": {},
   "outputs": [],
   "source": [
    "China = data[data.country == 'China']"
   ]
  },
  {
   "cell_type": "code",
   "execution_count": 46,
   "id": "c4be808b",
   "metadata": {},
   "outputs": [
    {
     "data": {
      "image/png": "[encoded data removed]",
      "text/plain": [
       "<Figure size 432x288 with 1 Axes>"
      ]
     },
     "metadata": {
      "needs_background": "light"
     },
     "output_type": "display_data"
    }
   ],
   "source": [
    "plt.plot(Nigeria.year, Nigeria.population/10**6)\n",
    "plt.title('Nigeria Population')\n",
    "plt.ylabel('population in millions')\n",
    "plt.xlabel('years')\n",
    "plt.show()"
   ]
  },
  {
   "cell_type": "code",
   "execution_count": 52,
   "id": "49214cba",
   "metadata": {},
   "outputs": [],
   "source": [
    "Nigeria_growth = (Nigeria.population/Nigeria.population.iloc[0]*100)\n",
    "\n",
    "China_growth = China.population/China.population.iloc[0]*100"
   ]
  },
  {
   "cell_type": "code",
   "execution_count": 75,
   "id": "6a86a904",
   "metadata": {},
   "outputs": [
    {
     "data": {
      "image/png": "[encoded data removed]",
      "text/plain": [
       "<Figure size 432x288 with 1 Axes>"
      ]
     },
     "metadata": {
      "needs_background": "light"
     },
     "output_type": "display_data"
    }
   ],
   "source": [
    "plt.plot(Nigeria.year, Nigeria_growth)\n",
    "\n",
    "plt.plot(Nigeria.year, China_growth)\n",
    "\n",
    "plt.legend(['Nigeria', 'China'], loc='right' )\n",
    "\n",
    "plt.show()\n",
    "\n"
   ]
  },
  {
   "cell_type": "code",
   "execution_count": 143,
   "id": "49db2d93",
   "metadata": {},
   "outputs": [
    {
     "name": "stderr",
     "output_type": "stream",
     "text": [
      "C:\\Users\\sadeo\\AppData\\Local\\Temp/ipykernel_11628/2493259731.py:2: UserWarning: Boolean Series key will be reindexed to match DataFrame index.\n",
      "  population_above_amillion_2007 = population_above_amillion[data.year == 2007]\n"
     ]
    }
   ],
   "source": [
    "population_above_amillion = data[data.population >= 10**6]\n",
    "population_above_amillion_2007 = population_above_amillion[data.year == 2007]"
   ]
  },
  {
   "cell_type": "code",
   "execution_count": 144,
   "id": "b6230dfe",
   "metadata": {
    "scrolled": true
   },
   "outputs": [
    {
     "name": "stdout",
     "output_type": "stream",
     "text": [
      "                 country  year  population\n",
      "11           Afghanistan  2007    31889923\n",
      "23               Albania  2007     3600523\n",
      "35               Algeria  2007    33333216\n",
      "47                Angola  2007    12420476\n",
      "59             Argentina  2007    40301927\n",
      "...                  ...   ...         ...\n",
      "1655             Vietnam  2007    85262356\n",
      "1667  West Bank and Gaza  2007     4018332\n",
      "1679         Yemen, Rep.  2007    22211743\n",
      "1691              Zambia  2007    11746035\n",
      "1703            Zimbabwe  2007    12311143\n",
      "\n",
      "[134 rows x 3 columns]\n"
     ]
    }
   ],
   "source": [
    "print(population_above_amillion_2007)"
   ]
  },
  {
   "cell_type": "code",
   "execution_count": 154,
   "id": "585c9c7b",
   "metadata": {},
   "outputs": [
    {
     "name": "stdout",
     "output_type": "stream",
     "text": [
      "Count of countries with population above one million:\n",
      "134\n"
     ]
    }
   ],
   "source": [
    "print('Count of countries with population above one million:');print(len(population_above_amillion_2007))"
   ]
  },
  {
   "cell_type": "code",
   "execution_count": 160,
   "id": "38069bb7",
   "metadata": {},
   "outputs": [
    {
     "name": "stdout",
     "output_type": "stream",
     "text": [
      "['country', 'year', 'population']\n"
     ]
    }
   ],
   "source": [
    "list_countries = list(population_above_amillion_2007)\n",
    "print(list_countries)"
   ]
  },
  {
   "cell_type": "code",
   "execution_count": 30,
   "id": "e81ec9e7",
   "metadata": {},
   "outputs": [
    {
     "data": {
      "image/png": "[encoded data removed]",
      "text/plain": [
       "<Figure size 432x288 with 1 Axes>"
      ]
     },
     "metadata": {
      "needs_background": "light"
     },
     "output_type": "display_data"
    }
   ],
   "source": [
    "plt.plot(population_above_amillion_2007.country, population_above_amillion_2007.population/10**6)\n",
    "plt.title('population_above_amillion_2007')\n",
    "plt.show()"
   ]
  },
  {
   "cell_type": "code",
   "execution_count": 40,
   "id": "d621ef76",
   "metadata": {},
   "outputs": [],
   "source": [
    "df =(population_above_amillion_2007).describe()"
   ]
  },
  {
   "cell_type": "code",
   "execution_count": 41,
   "id": "c972e32d",
   "metadata": {},
   "outputs": [
    {
     "data": {
      "text/html": [
       "<div>\n",
       "<style scoped>\n",
       "    .dataframe tbody tr th:only-of-type {\n",
       "        vertical-align: middle;\n",
       "    }\n",
       "\n",
       "    .dataframe tbody tr th {\n",
       "        vertical-align: top;\n",
       "    }\n",
       "\n",
       "    .dataframe thead th {\n",
       "        text-align: right;\n",
       "    }\n",
       "</style>\n",
       "<table border=\"1\" class=\"dataframe\">\n",
       "  <thead>\n",
       "    <tr style=\"text-align: right;\">\n",
       "      <th></th>\n",
       "      <th>population</th>\n",
       "    </tr>\n",
       "  </thead>\n",
       "  <tbody>\n",
       "    <tr>\n",
       "      <th>count</th>\n",
       "      <td>1.340000e+02</td>\n",
       "    </tr>\n",
       "    <tr>\n",
       "      <th>mean</th>\n",
       "      <td>4.661613e+07</td>\n",
       "    </tr>\n",
       "    <tr>\n",
       "      <th>std</th>\n",
       "      <td>1.515997e+08</td>\n",
       "    </tr>\n",
       "    <tr>\n",
       "      <th>min</th>\n",
       "      <td>1.056608e+06</td>\n",
       "    </tr>\n",
       "    <tr>\n",
       "      <th>25%</th>\n",
       "      <td>5.452656e+06</td>\n",
       "    </tr>\n",
       "    <tr>\n",
       "      <th>50%</th>\n",
       "      <td>1.188892e+07</td>\n",
       "    </tr>\n",
       "    <tr>\n",
       "      <th>75%</th>\n",
       "      <td>3.337591e+07</td>\n",
       "    </tr>\n",
       "    <tr>\n",
       "      <th>max</th>\n",
       "      <td>1.318683e+09</td>\n",
       "    </tr>\n",
       "  </tbody>\n",
       "</table>\n",
       "</div>"
      ],
      "text/plain": [
       "         population\n",
       "count  1.340000e+02\n",
       "mean   4.661613e+07\n",
       "std    1.515997e+08\n",
       "min    1.056608e+06\n",
       "25%    5.452656e+06\n",
       "50%    1.188892e+07\n",
       "75%    3.337591e+07\n",
       "max    1.318683e+09"
      ]
     },
     "execution_count": 41,
     "metadata": {},
     "output_type": "execute_result"
    }
   ],
   "source": [
    "df.loc[:, df.columns!='year']"
   ]
  },
  {
   "cell_type": "markdown",
   "id": "3df90d0a",
   "metadata": {},
   "source": [
    "## Population growth of major economies"
   ]
  },
  {
   "cell_type": "code",
   "execution_count": 126,
   "id": "c3c144a0",
   "metadata": {},
   "outputs": [],
   "source": [
    "US = data[data.country == 'United States']\n",
    "China = data[data.country == 'China']\n",
    "India = data[data.country == 'India']\n",
    "Taiwan = data[data.country == 'Taiwan']\n",
    "Egypt = data[data.country == 'Egypt']\n",
    "Spain = data[data.country == 'Spain']"
   ]
  },
  {
   "cell_type": "code",
   "execution_count": 127,
   "id": "aec77344",
   "metadata": {},
   "outputs": [],
   "source": [
    "### Us population growth\n",
    "US_grwth = (US.population/US.population.iloc[0] * 100)\n",
    "\n",
    "### China population growth\n",
    "Chn_grwth = (China.population/China.population.iloc[0] * 100)"
   ]
  },
  {
   "cell_type": "code",
   "execution_count": 128,
   "id": "ae768ef3",
   "metadata": {},
   "outputs": [],
   "source": [
    "### India Population growth\n",
    "Idn_grwth = (India.population/India.population.iloc[0] * 100)\n",
    "\n",
    "### Taiwan population growth\n",
    "Twn_grwth = (Taiwan.population/Taiwan.population.iloc[0] * 100)\n"
   ]
  },
  {
   "cell_type": "code",
   "execution_count": 129,
   "id": "a81d3c78",
   "metadata": {},
   "outputs": [],
   "source": [
    "### Egypt population growth\n",
    "\n",
    "Egy_grwth = (Egypt.population/Egypt.population.iloc[0] * 100)"
   ]
  },
  {
   "cell_type": "code",
   "execution_count": 130,
   "id": "6ab2d185",
   "metadata": {},
   "outputs": [],
   "source": [
    "# Spain population growth\n",
    "Spain_grwth = (Spain.population/Spain.population.iloc[0] * 100)\n"
   ]
  },
  {
   "cell_type": "code",
   "execution_count": 140,
   "id": "061d71e4",
   "metadata": {},
   "outputs": [
    {
     "data": {
      "image/png": "[encoded data removed]",
      "text/plain": [
       "<Figure size 432x288 with 1 Axes>"
      ]
     },
     "metadata": {
      "needs_background": "light"
     },
     "output_type": "display_data"
    }
   ],
   "source": [
    "plt.plot(US.year, US_grwth)\n",
    "plt.plot(US.year, Chn_grwth)\n",
    "plt.plot(US.year, Twn_grwth)\n",
    "plt.plot(US.year, Egy_grwth)\n",
    "plt.plot(US.year, Spain_grwth)\n",
    "plt.plot(US.year, Nigeria_growth)\n",
    "\n",
    "plt.title('Major population growth', fontsize= 20)\n",
    "plt.ylabel('Population growth')\n",
    "plt.legend(['US', 'China', 'Taiwan', 'Egypt', 'Spain', 'Nigeria'])\n",
    "plt.show()"
   ]
  },
  {
   "cell_type": "markdown",
   "id": "b998dd10",
   "metadata": {},
   "source": [
    "## West Africa population growth"
   ]
  },
  {
   "cell_type": "code",
   "execution_count": 164,
   "id": "3e3f1868",
   "metadata": {},
   "outputs": [],
   "source": [
    "Senegal = data[data.country == 'Senegal']\n",
    "Togo = data[data.country == 'Togo']\n",
    "Ghana = data[data.country == 'Ghana']\n",
    "Benin = data[data.country == 'Benin']\n",
    "Niger = data[data.country == 'Niger']\n"
   ]
  },
  {
   "cell_type": "code",
   "execution_count": 167,
   "id": "6e5951eb",
   "metadata": {},
   "outputs": [
    {
     "data": {
      "image/png": "[encoded data removed]",
      "text/plain": [
       "<Figure size 432x288 with 1 Axes>"
      ]
     },
     "metadata": {
      "needs_background": "light"
     },
     "output_type": "display_data"
    }
   ],
   "source": [
    "# plot charts\n",
    "\n",
    "plt.plot(Nigeria.year, Nigeria.population)\n",
    "plt.plot(Nigeria.year, Senegal.population)\n",
    "plt.plot(Nigeria.year, Togo.population)\n",
    "plt.plot(Nigeria.year, Ghana.population)\n",
    "plt.plot(Nigeria.year, Benin.population)\n",
    "plt.plot(Nigeria.year, Niger.population)\n",
    "\n",
    "plt.legend(['Nigeria', 'Senegal', 'Togo', 'Ghana', 'Benin', 'Niger'])\n",
    "plt.title('West Africa Population', fontsize = 18)\n",
    "plt.show()"
   ]
  },
  {
   "cell_type": "code",
   "execution_count": 169,
   "id": "209752d6",
   "metadata": {},
   "outputs": [],
   "source": [
    "Sng_gwth = Senegal.population/Senegal.population.iloc[0]*100\n",
    "Tgo_gwth = Togo.population/Togo.population.iloc[0]*100\n",
    "Ghn_gwth = Ghana.population/Ghana.population.iloc[0]*100\n",
    "Benin_gwth = Benin.population/Benin.population.iloc[0]*100\n",
    "Ngr_gwth = Niger.population/Niger.population.iloc[0]*100"
   ]
  },
  {
   "cell_type": "code",
   "execution_count": null,
   "id": "12ebe71a",
   "metadata": {},
   "outputs": [],
   "source": [
    "# plot charts of population growth\n",
    "\n",
    "plt.plot(Nigeria.year, Nigeria_growth)\n",
    "plt.plot(Nigeria.year, Sng_gwth)\n",
    "plt.plot(Nigeria.year, Ghn.gwth)\n",
    "plt.plot(Nigeria.year, Ghana.population)\n",
    "plt.plot(Nigeria.year, Benin.population)\n",
    "plt.plot(Nigeria.year, Niger.population)\n",
    "\n",
    "plt.legend(['Nigeria', 'Senegal', 'Togo', 'Ghana', 'Benin', 'Niger'])\n",
    "plt.title('West Africa Population Growth', fontsize = 18)\n",
    "plt.show()"
   ]
  }
 ],
 "metadata": {
  "kernelspec": {
   "display_name": "Python 3 (ipykernel)",
   "language": "python",
   "name": "python3"
  },
  "language_info": {
   "codemirror_mode": {
    "name": "ipython",
    "version": 3
   },
   "file_extension": ".py",
   "mimetype": "text/x-python",
   "name": "python",
   "nbconvert_exporter": "python",
   "pygments_lexer": "ipython3",
   "version": "3.9.7"
  }
 },
 "nbformat": 4,
 "nbformat_minor": 5
}
